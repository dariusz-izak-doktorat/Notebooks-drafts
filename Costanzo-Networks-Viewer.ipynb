

{
 "cells": [
  {
   "cell_type": "markdown",
   "metadata": {},
   "source": [
    "Notes\n",
    "\n",
    "- Required files:\n",
    "    - Costanzo Genetic Interaction Networks:\n",
    "        - SGA_NxN.txt\n",
    "        - SGA_ExE.txt\n",
    "        - SGA_ExN_NxE.txt\n",
    "        - SGA_DAmP.txt"
   ]
  },
  {
   "cell_type": "markdown",
   "metadata": {},
   "source": [
    "View and search through Costanzo Genetic Interactions Networks"
   ]
  },
  {
   "cell_type": "markdown",
   "metadata": {},
   "source": [
    "# Table of Contents\n",
    "\n",
    "1. [Imports](#imports)\n",
    "1. [Costazo's SGA Interaction Networks (v2, 2016)](#costazos-sga-interaction-networks)\n",
    "    1. [Loading SGAs](#loading-sgas)"
   ]
  },
  {
   "cell_type": "markdown",
   "metadata": {},
   "source": [
    "<a class='anchor' id='imports'></a>\n",
    "# Imports"
   ]
  },
  {
   "cell_type": "code",
   "execution_count": 1,
   "metadata": {
    "code_folding": []
   },
   "outputs": [],
   "source": [
    "# Imports\n",
    "import base64\n",
    "from IPython.display import display, Image, HTML\n",
    "from ipywidgets import Layout\n",
    "from ipywidgets import AppLayout\n",
    "import ipywidgets as widgets\n",
    "import re\n",
    "import sys\n",
    "import io\n",
    "import tempfile\n",
    "import pandas as pd\n",
    "import numpy as np\n",
    "import seaborn as sns\n",
    "import prwlr\n",
    "\n",
    "from glob import glob"
   ]
  },
  {
   "cell_type": "markdown", ###??
   "metadata": {},
   "source": [
    "<a class=\"anchor\" id='costazos-sga-interaction-networks'></a>\n",
    "# Costazo's SGA Interaction Networks (v2, 2016)"
   ]
  },
  {
   "cell_type": "markdown",
   "metadata": {},
   "source": [
    "<a class='anchor' id='loading-sgas'></a>\n",
    "## Loading SGAs"
   ]
  },
  {
   "cell_type": "markdown",
   "metadata": {},
   "source": [
    "Raw SGA files"
   ]
  },
  {
   "cell_type": "code",
   "execution_count": 2,
   "metadata": {
    "code_folding": []
   },
   "outputs": [],
   "source": [
    "# Load raw SGA files\n",
    "ExE = prwlr.read_sga('./presentation-main-data/costanzo/SGA_ExE.txt')\n",
    "NxN = prwlr.read_sga('./presentation-main-data/costanzo/SGA_NxN.txt')\n",
    "ExN_NxE = prwlr.read_sga('./presentation-main-data/costanzo/SGA_ExN_NxE.txt')\n",
    "DAmP = prwlr.read_sga('././presentation-main-data/costanzo/SGA_DAmP.txt')"
   ]
  },
  {
   "cell_type": "code",
   "execution_count": 3,
   "metadata": {
    "code_folding": [
     0
    ]
   },
   "outputs": [],
   "source": [
    "# Get GIS absolute values\n",
    "NxN['GIS_abs'] = NxN.GIS.abs()\n",
    "ExE['GIS_abs'] = ExE.GIS.abs()\n",
    "ExN_NxE['GIS_abs'] = ExN_NxE.GIS.abs()\n",
    "DAmP['GIS_abs'] = DAmP.GIS.abs()"
   ]
  },
  {
   "cell_type": "code",
   "execution_count": 4,
   "metadata": {
    "code_folding": [
     0
    ]
   },
   "outputs": [],
   "source": [
    "# Put GIS into bins\n",
    "step=0.05\n",
    "NxN_bins = np.arange(0, NxN.GIS_abs.max(), step)\n",
    "NxN_labels = ['{}-{}'.format(str(np.round(i, 3)), str(np.round(i + step, 3))) for i in NxN_bins][:-1]\n",
    "ExE_bins = np.arange(0, ExE.GIS_abs.max(), step)\n",
    "ExE_labels = ['{}-{}'.format(str(np.round(i, 3)), str(np.round(i + step, 3))) for i in ExE_bins][:-1]\n",
    "ExN_NxE_bins = np.arange(0, ExN_NxE.GIS_abs.max(), step)\n",
    "ExN_NxE_labels = ['{}-{}'.format(str(np.round(i, 3)), str(np.round(i + step, 3))) for i in ExN_NxE_bins][:-1]\n",
    "DAmP_bins = np.arange(0, DAmP.GIS_abs.max(), step)\n",
    "DAmP_labels = ['{}-{}'.format(str(np.round(i, 3)), str(np.round(i + step, 3))) for i in DAmP_bins][:-1]\n",
    "NxN['GIS_binned'] = pd.cut(NxN.GIS_abs, bins=NxN_bins, labels=NxN_labels)\n",
    "ExE['GIS_binned'] = pd.cut(ExE.GIS_abs, bins=ExE_bins, labels=ExE_labels)\n",
    "ExN_NxE['GIS_binned'] = pd.cut(ExN_NxE.GIS_abs, bins=ExN_NxE_bins, labels=ExN_NxE_labels)\n",
    "DAmP['GIS_binned'] = pd.cut(DAmP.GIS_abs, bins=DAmP_bins, labels=DAmP_labels)"
   ]
  },
  {
   "cell_type": "code",
   "execution_count": 5,
   "metadata": {
    "code_folding": [
     0
    ]
   },
   "outputs": [],
   "source": [
    "# Load filtered and profilized networks\n",
    "NxN = prwlr.read_network(\n",
    "    f'./presentation-main-data/filtered_appended_networks/NxN_pval01_profilized.csv',\n",
    "    sep='\\t',\n",
    "    index_col=[0],\n",
    ")\n",
    "ExE = prwlr.read_network(\n",
    "    f'./presentation-main-data/filtered_appended_networks/ExE_pval01_profilized.csv',\n",
    "    sep='\\t',\n",
    "    index_col=[0],\n",
    ")\n",
    "ExN_NxE = prwlr.read_network(\n",
    "    f'./presentation-main-data/filtered_appended_networks/ExN_NxE_pval01_profilized.csv',\n",
    "    sep='\\t',\n",
    "    index_col=[0],\n",
    ")\n",
    "DAmP = prwlr.read_network(\n",
    "    f'./presentation-main-data/filtered_appended_networks/DAmP_pval01_profilized.csv',\n",
    "    sep='\\t',\n",
    "    index_col=[0],\n",
    ")"
   ]
  },
  {
   "cell_type": "code",
   "execution_count": 6,
   "metadata": {
    "code_folding": [
     0
    ]
   },
   "outputs": [],
   "source": [
    "# The default organisms list\n",
    "archea = [\n",
    "    'Aeropyrum pernix',\n",
    "    'Sulfolobus islandicus', \n",
    "]\n",
    "\n",
    "bacteria = [\n",
    "    'Agrobacterium fabrum',\n",
    "    'Bacillus subtilis',\n",
    "    'Chlamydophila felis',\n",
    "    'Escherichia coli',\n",
    "    'Staphylococcus aureus',\n",
    "]\n",
    "\n",
    "eukaryots = [\n",
    "    'Arabidopsis thaliana',\n",
    "    'Caenorhabditis elegans',\n",
    "    'Dictyostelium discoideum',\n",
    "    'Drosophila melanogaster',\n",
    "    'Homo sapiens',\n",
    "    'Plasmodium falciparum',\n",
    "    'Tetrahymena thermophila',\n",
    "    'Trypanosoma cruzi',\n",
    "    'Volvox carteri',\n",
    "]"
   ]
  },
  {
   "cell_type": "code",
   "execution_count": 7,
   "metadata": {
    "code_folding": [
     0
    ]
   },
   "outputs": [
    {
     "name": "stderr",
     "output_type": "stream",
     "text": [
      "Skipping line 4648: Expected 3 fields in line 4648, saw 4. Error could possibly be due to quotes being ignored when a multi-char delimiter is used.\n",
      "Skipping line 5152: Expected 3 fields in line 5152, saw 4. Error could possibly be due to quotes being ignored when a multi-char delimiter is used.\n",
      "Skipping line 5153: Expected 3 fields in line 5153, saw 4. Error could possibly be due to quotes being ignored when a multi-char delimiter is used.\n",
      "Skipping line 5702: Expected 3 fields in line 5702, saw 4. Error could possibly be due to quotes being ignored when a multi-char delimiter is used.\n"
     ]
    }
   ],
   "source": [
    "# Get the organisms names that can be used for building the phylogenetic profiles\n",
    "tmp = tempfile.NamedTemporaryFile(delete=True)\n",
    "kegg_api = prwlr.apis.KEGG_API()\n",
    "kegg_api.get_organisms_ids(out_file_name=tmp.name)"
   ]
  },
  {
   "cell_type": "code",
   "execution_count": 8,
   "metadata": {
    "code_folding": [
     0
    ],
    "collapsed": true
   },
   "outputs": [
    {
     "name": "stdout",
     "output_type": "stream",
     "text": [
      "Getting the organisms' KEGG IDs...\n",
      "More than one record for this query\n",
      "                          DESCRIPTION KEGG_ORG_ID\n",
      "886    Sulfolobus islandicus L.S.2.15         sis\n",
      "887     Sulfolobus islandicus M.14.25         sia\n",
      "897     Sulfolobus islandicus M.16.27         sim\n",
      "898   Sulfolobus islandicus Y.G.57.14         siy\n",
      "899   Sulfolobus islandicus Y.N.15.51         sin\n",
      "903      Sulfolobus islandicus M.16.4         sid\n",
      "More than one record for this query\n",
      "                                           DESCRIPTION KEGG_ORG_ID\n",
      "6                         Escherichia coli K-12 MG1655         eco\n",
      "43              Escherichia coli O157:H7 EDL933 (EHEC)         ece\n",
      "47               Escherichia coli O157:H7 Sakai (EHEC)         ecs\n",
      "66                         Escherichia coli K-12 W3110         ecj\n",
      "104            Escherichia coli O6:K2:H1 CFT073 (UPEC)         ecc\n",
      "335            Escherichia coli O18:K1:H7 UTI89 (UPEC)         eci\n",
      "370             Escherichia coli O6:K15:H31 536 (UPEC)         ecp\n",
      "422   Escherichia coli APEC O1 (Avian pathogenic Es...         ecv\n",
      "587           Escherichia coli O139:H28 E24377A (ETEC)         ecw\n",
      "588          Escherichia coli O9 HS (commensal strain)         ecx\n",
      "663                        Escherichia coli K-12 DH10B         ecd\n",
      "669   Escherichia coli SMS-3-5 (environmental isolate)         ecm\n",
      "694                         Escherichia coli ATCC 8739         ecl\n",
      "775             Escherichia coli O157:H7 EC4115 (EHEC)         ecf\n",
      "781   Escherichia coli O152:H28 SE11 (commensal str...         ecy\n",
      "793           Escherichia coli O127:H6 E2348/69 (EPEC)         ecg\n",
      "823                      Escherichia coli 55989 (EAEC)         eck\n",
      "824        Escherichia coli O81 D1a (commensal strain)         ecq\n",
      "825        Escherichia coli O8 IAI1 (commensal strain)         ecr\n",
      "826               Escherichia coli O7:K1 IAI39 (ExPEC)         ect\n",
      "827             Escherichia coli O45:K1:H7 S88 (ExPEC)         ecz\n",
      "828        Escherichia coli O17:K52:H18 UMN026 (ExPEC)         eum\n",
      "910   Escherichia coli BW2952 (K-12 MC41000 with pl...         ebw\n",
      "936            Escherichia coli BL21-Gold(DE3)pLysS AG         ebd\n",
      "More than one record for this query\n",
      "                                           DESCRIPTION KEGG_ORG_ID\n",
      "50    Staphylococcus aureus subsp. aureus N315, hos...         sau\n",
      "51    Staphylococcus aureus subsp. aureus Mu50, met...         sav\n",
      "84    Staphylococcus aureus subsp. aureus MW2, comm...         sam\n",
      "179   Staphylococcus aureus subsp. aureus MRSA252, ...         sar\n",
      "180   Staphylococcus aureus subsp. aureus MSSA476, ...         sas\n",
      "222   Staphylococcus aureus subsp. aureus COL, meth...         sac\n",
      "300   Staphylococcus aureus RF122/ET3-1, bovine mas...         sab\n",
      "320   Staphylococcus aureus subsp. aureus USA300_FP...         saa\n",
      "321      Staphylococcus aureus subsp. aureus NCTC 8325         sao\n",
      "519   Staphylococcus aureus subsp. aureus JH9, meth...         saj\n",
      "553   Staphylococcus aureus subsp. aureus JH1, meth...         sah\n",
      "554         Staphylococcus aureus subsp. aureus Newman         sae\n",
      "585   Staphylococcus aureus subsp. aureus Mu3, meth...         saw\n",
      "626   Staphylococcus aureus subsp. aureus USA300_TC...         sax\n",
      "More than one record for this query\n",
      "                                           DESCRIPTION KEGG_ORG_ID\n",
      "29                 Drosophila melanogaster (fruit fly)         dme\n",
      "158   Wolbachia sp. wMel, endosymbiont of Drosophil...         wol\n",
      "More than one record for this query\n",
      "                     DESCRIPTION KEGG_ORG_ID\n",
      "93     Plasmodium falciparum 3D7         pfa\n",
      "1048   Plasmodium falciparum Dd2         pfd\n",
      "1049   Plasmodium falciparum HB3         pfh\n"
     ]
    },
    {
     "name": "stderr",
     "output_type": "stream",
     "text": [
      "Skipping line 4648: Expected 3 fields in line 4648, saw 4. Error could possibly be due to quotes being ignored when a multi-char delimiter is used.\n",
      "Skipping line 5152: Expected 3 fields in line 5152, saw 4. Error could possibly be due to quotes being ignored when a multi-char delimiter is used.\n",
      "Skipping line 5153: Expected 3 fields in line 5153, saw 4. Error could possibly be due to quotes being ignored when a multi-char delimiter is used.\n",
      "Skipping line 5702: Expected 3 fields in line 5702, saw 4. Error could possibly be due to quotes being ignored when a multi-char delimiter is used.\n"
     ]
    }
   ],
   "source": [
    "# IDs and taxonomical names\n",
    "IDs_names = prwlr.get_IDs_names(\n",
    "    archea +\n",
    "    bacteria +\n",
    "    eukaryots\n",
    ")\n",
    "names_IDs = {v: k for k, v in zip(IDs_names.keys(), IDs_names.values())}"
   ]
  },
  {
   "cell_type": "code",
   "execution_count": 9,
   "metadata": {
    "code_folding": [
     0
    ],
    "collapsed": true
   },
   "outputs": [
    {
     "name": "stdout",
     "output_type": "stream",
     "text": [
      "Getting the organisms' KEGG IDs...\n"
     ]
    },
    {
     "name": "stderr",
     "output_type": "stream",
     "text": [
      "Skipping line 4648: Expected 3 fields in line 4648, saw 4. Error could possibly be due to quotes being ignored when a multi-char delimiter is used.\n",
      "Skipping line 5152: Expected 3 fields in line 5152, saw 4. Error could possibly be due to quotes being ignored when a multi-char delimiter is used.\n",
      "Skipping line 5153: Expected 3 fields in line 5153, saw 4. Error could possibly be due to quotes being ignored when a multi-char delimiter is used.\n",
      "Skipping line 5702: Expected 3 fields in line 5702, saw 4. Error could possibly be due to quotes being ignored when a multi-char delimiter is used.\n"
     ]
    },
    {
     "name": "stdout",
     "output_type": "stream",
     "text": [
      "More than one record for this query\n",
      "                          DESCRIPTION KEGG_ORG_ID\n",
      "886    Sulfolobus islandicus L.S.2.15         sis\n",
      "887     Sulfolobus islandicus M.14.25         sia\n",
      "897     Sulfolobus islandicus M.16.27         sim\n",
      "898   Sulfolobus islandicus Y.G.57.14         siy\n",
      "899   Sulfolobus islandicus Y.N.15.51         sin\n",
      "903      Sulfolobus islandicus M.16.4         sid\n",
      "More than one record for this query\n",
      "                                           DESCRIPTION KEGG_ORG_ID\n",
      "6                         Escherichia coli K-12 MG1655         eco\n",
      "43              Escherichia coli O157:H7 EDL933 (EHEC)         ece\n",
      "47               Escherichia coli O157:H7 Sakai (EHEC)         ecs\n",
      "66                         Escherichia coli K-12 W3110         ecj\n",
      "104            Escherichia coli O6:K2:H1 CFT073 (UPEC)         ecc\n",
      "335            Escherichia coli O18:K1:H7 UTI89 (UPEC)         eci\n",
      "370             Escherichia coli O6:K15:H31 536 (UPEC)         ecp\n",
      "422   Escherichia coli APEC O1 (Avian pathogenic Es...         ecv\n",
      "587           Escherichia coli O139:H28 E24377A (ETEC)         ecw\n",
      "588          Escherichia coli O9 HS (commensal strain)         ecx\n",
      "663                        Escherichia coli K-12 DH10B         ecd\n",
      "669   Escherichia coli SMS-3-5 (environmental isolate)         ecm\n",
      "694                         Escherichia coli ATCC 8739         ecl\n",
      "775             Escherichia coli O157:H7 EC4115 (EHEC)         ecf\n",
      "781   Escherichia coli O152:H28 SE11 (commensal str...         ecy\n",
      "793           Escherichia coli O127:H6 E2348/69 (EPEC)         ecg\n",
      "823                      Escherichia coli 55989 (EAEC)         eck\n",
      "824        Escherichia coli O81 D1a (commensal strain)         ecq\n",
      "825        Escherichia coli O8 IAI1 (commensal strain)         ecr\n",
      "826               Escherichia coli O7:K1 IAI39 (ExPEC)         ect\n",
      "827             Escherichia coli O45:K1:H7 S88 (ExPEC)         ecz\n",
      "828        Escherichia coli O17:K52:H18 UMN026 (ExPEC)         eum\n",
      "910   Escherichia coli BW2952 (K-12 MC41000 with pl...         ebw\n",
      "936            Escherichia coli BL21-Gold(DE3)pLysS AG         ebd\n",
      "More than one record for this query\n",
      "                                           DESCRIPTION KEGG_ORG_ID\n",
      "50    Staphylococcus aureus subsp. aureus N315, hos...         sau\n",
      "51    Staphylococcus aureus subsp. aureus Mu50, met...         sav\n",
      "84    Staphylococcus aureus subsp. aureus MW2, comm...         sam\n",
      "179   Staphylococcus aureus subsp. aureus MRSA252, ...         sar\n",
      "180   Staphylococcus aureus subsp. aureus MSSA476, ...         sas\n",
      "222   Staphylococcus aureus subsp. aureus COL, meth...         sac\n",
      "300   Staphylococcus aureus RF122/ET3-1, bovine mas...         sab\n",
      "320   Staphylococcus aureus subsp. aureus USA300_FP...         saa\n",
      "321      Staphylococcus aureus subsp. aureus NCTC 8325         sao\n",
      "519   Staphylococcus aureus subsp. aureus JH9, meth...         saj\n",
      "553   Staphylococcus aureus subsp. aureus JH1, meth...         sah\n",
      "554         Staphylococcus aureus subsp. aureus Newman         sae\n",
      "585   Staphylococcus aureus subsp. aureus Mu3, meth...         saw\n",
      "626   Staphylococcus aureus subsp. aureus USA300_TC...         sax\n",
      "More than one record for this query\n",
      "                                           DESCRIPTION KEGG_ORG_ID\n",
      "29                 Drosophila melanogaster (fruit fly)         dme\n",
      "158   Wolbachia sp. wMel, endosymbiont of Drosophil...         wol\n",
      "More than one record for this query\n",
      "                     DESCRIPTION KEGG_ORG_ID\n",
      "93     Plasmodium falciparum 3D7         pfa\n",
      "1048   Plasmodium falciparum Dd2         pfd\n",
      "1049   Plasmodium falciparum HB3         pfh\n",
      "Getting the ORF-Orthology Group Cross Reference...\n",
      "Getting the Organisms List for Each of The Orthology Group...\n",
      "K17657 K23562 K18184 \r"
     ]
    }
   ],
   "source": [
    "# Profilize organism of interest\n",
    "profiles = prwlr.profilize_organism('Saccharomyces cerevisiae', archea + bacteria + eukaryots,)"
   ]
  },
  {
   "cell_type": "code",
   "execution_count": 15,
   "metadata": {},
   "outputs": [],
   "source": [
    "for network in (NxN, ExE, ExN_NxE, DAmP):\n",
    "    network.drop(columns=[prwlr.Columns.PROF_Q, prwlr.Columns.PROF_A], inplace=True)"
   ]
  },
  {
   "cell_type": "code",
   "execution_count": 17,
   "metadata": {
    "code_folding": []
   },
   "outputs": [],
   "source": [
    "# Merge with profiles\n",
    "NxN = prwlr.merge_sga_profiles(NxN, profiles)\n",
    "ExE = prwlr.merge_sga_profiles(ExE, profiles)\n",
    "ExN_NxE = prwlr.merge_sga_profiles(ExN_NxE, profiles)\n",
    "DAmP = prwlr.merge_sga_profiles(DAmP, profiles)"
   ]
  },
  {
   "cell_type": "code",
   "execution_count": 19,
   "metadata": {
    "code_folding": []
   },
   "outputs": [],
   "source": [
    "# Calculate PSS\n",
    "NxN = prwlr.calculate_pss(NxN, 'pairwise')\n",
    "ExE = prwlr.calculate_pss(ExE, 'pairwise')\n",
    "ExN_NxE = prwlr.calculate_pss(ExN_NxE, 'pairwise')\n",
    "DAmP = prwlr.calculate_pss(DAmP, 'pairwise')"
   ]
  },
  {
   "cell_type": "code",
   "execution_count": 20,
   "metadata": {
    "code_folding": []
   },
   "outputs": [],
   "source": [
    "# Define ElasticDict for fuzzy search\n",
    "class ElasticDict(dict):\n",
    "    \"\"\"\n",
    "    Dictionary that does fuzzy search.\n",
    "    Returns the first match if there are multiple mathes.\n",
    "    \"\"\"\n",
    "    def __init__(\n",
    "        self,\n",
    "        dictionary,\n",
    "    ):\n",
    "        self._dictionary = dictionary\n",
    "        for k, v in zip(self._dictionary.keys(), self._dictionary.values()):\n",
    "            super().__setitem__(k, v)\n",
    "            \n",
    "    \n",
    "    def __getitem__(\n",
    "        self,\n",
    "        key,\n",
    "    ):\n",
    "        for _ in self.keys():\n",
    "            if key.lower() in _.lower():\n",
    "                yield super().__getitem__(_)"
   ]
  },
  {
   "cell_type": "code",
   "execution_count": 21,
   "metadata": {
    "code_folding": [
     0
    ]
   },
   "outputs": [],
   "source": [
    "# Mark identical profiles as similar\n",
    "NxN['PROF_SIMILAR'] = (NxN[prwlr.Columns.PROF_Q] == NxN[prwlr.Columns.PROF_A])\n",
    "ExE['PROF_SIMILAR'] = (ExE[prwlr.Columns.PROF_Q] == ExE[prwlr.Columns.PROF_A])\n",
    "ExN_NxE['PROF_SIMILAR'] = (ExN_NxE[prwlr.Columns.PROF_Q] == ExN_NxE[prwlr.Columns.PROF_A])\n",
    "DAmP['PROF_SIMILAR'] = (DAmP[prwlr.Columns.PROF_Q] == DAmP[prwlr.Columns.PROF_A])"
   ]
  },
  {
   "cell_type": "code",
   "execution_count": 22,
   "metadata": {
    "code_folding": [
     0
    ]
   },
   "outputs": [],
   "source": [
    "# Function create_download_link\n",
    "def create_download_link(\n",
    "    df,\n",
    "    title=\"Download CSV file\",\n",
    "    filename = \"data.csv\",\n",
    "):  \n",
    "    \"\"\"\n",
    "    Create a download link for pandas.DataFrame inside\n",
    "    the Jupyter Notebook. The pandas.DataFrame is converted to\n",
    "    CSV, encoded to base64 through Python's bytes, then\n",
    "    decoded back to string and placed as a payload inside HTML\n",
    "    anchor tag.\n",
    "    \n",
    "    Parameters\n",
    "    -------\n",
    "    df: pandas.DataFrame\n",
    "        Dataframe that should be downloaded as csv.\n",
    "    title: str, default <Download CSV file>\n",
    "        Link content that is displayed.\n",
    "    filename: str, default <data.csv>\n",
    "        Default name of the file used during download.\n",
    "        It can be easily changed in the download prompt window.\n",
    "    Returns\n",
    "    -------\n",
    "        str\n",
    "    An anchor HTML tag.\n",
    "    \n",
    "    Requires\n",
    "    -------\n",
    "    pandas\n",
    "    base64\n",
    "    IPython\n",
    "    \"\"\"\n",
    "    csv = df.to_csv()\n",
    "    b64 = base64.b64encode(csv.encode())\n",
    "    payload = b64.decode()\n",
    "    html = '<a download=\"{filename}\" href=\"data:text/csv;base64,{payload}\" target=\"_blank\">{title}</a>'\n",
    "    html = html.format(payload=payload,title=title,filename=filename)\n",
    "    return HTML(html)"
   ]
  },
  {
   "cell_type": "code",
   "execution_count": 23,
   "metadata": {
    "code_folding": [
     0
    ]
   },
   "outputs": [],
   "source": [
    "# Function window_alert\n",
    "\n",
    "def window_alert(msg:str):\n",
    "    \"\"\"\n",
    "    Get HTML required for displaying a window alert.\n",
    "    \n",
    "    Parameters\n",
    "    -------\n",
    "    msg: str\n",
    "    \n",
    "    Returns\n",
    "    -------\n",
    "        IPython.display.HTML\n",
    "    \n",
    "    \"\"\"\n",
    "    html = \"\"\"\n",
    "    <script>\n",
    "        window.alert('{}')\n",
    "    </script>\n",
    "    \"\"\"\n",
    "    return HTML(html.format(msg))"
   ]
  },
  {
   "cell_type": "code",
   "execution_count": 24,
   "metadata": {
    "code_folding": []
   },
   "outputs": [],
   "source": [
    "# Function for building the Phylogenetic profiles\n",
    "\n",
    "def draw_build_profiles(*args, **kwargs):\n",
    "    global profiles\n",
    "    profiles = prwlr.profilize_organism(kwargs['organism'], kwargs['organisms'])\n",
    "    return profiles"
   ]
  },
  {
   "cell_type": "code",
   "execution_count": 25,
   "metadata": {
    "code_folding": [],
    "slideshow": {
     "slide_type": "slide"
    }
   },
   "outputs": [],
   "source": [
    "# Draw function for Explore the Genetic Interactions Networks\n",
    "def draw_explore_genetic_interactions_networks(*args, **kwargs):\n",
    "    \n",
    "    networks = {\n",
    "        'NxN': NxN,\n",
    "        'ExE': ExE,\n",
    "        'DAmP': DAmP,\n",
    "        'ExN_NxE': ExN_NxE,\n",
    "    }\n",
    "    selected = networks[kwargs['network']][\n",
    "        (networks[kwargs['network']][prwlr.Columns.ORF_Q].str.contains(kwargs['ORF_Q'], flags=re.IGNORECASE, regex=True)) &\n",
    "        (networks[kwargs['network']][prwlr.Columns.ORF_A].str.contains(kwargs['ORF_A'], flags=re.IGNORECASE, regex=True)) &\n",
    "\n",
    "        (networks[kwargs['network']][prwlr.Columns.GENE_Q].str.contains(kwargs['GENE_Q'], flags=re.IGNORECASE, regex=True)) &\n",
    "        (networks[kwargs['network']][prwlr.Columns.GENE_A].str.contains(kwargs['GENE_A'], flags=re.IGNORECASE, regex=True)) &\n",
    "        \n",
    "        (networks[kwargs['network']]['GIS_binned'] >= kwargs['GIS'][0]) &\n",
    "        (networks[kwargs['network']]['GIS_binned'] <= kwargs['GIS'][1]) &\n",
    "        \n",
    "        (networks[kwargs['network']][prwlr.Columns.PSS] >= kwargs['PSS'][0]) &\n",
    "        (networks[kwargs['network']][prwlr.Columns.PSS] <= kwargs['PSS'][1]) &\n",
    "        \n",
    "        (networks[kwargs['network']][prwlr.Columns.GIS_P] > kwargs['p_value'][0]) &\n",
    "        (networks[kwargs['network']][prwlr.Columns.GIS_P] < kwargs['p_value'][1])\n",
    "    ]\n",
    "#     selected = networks[kwargs['network']]\n",
    "    if kwargs['action'] == 'display':\n",
    "        output = selected\n",
    "    if kwargs['action'] == 'group':\n",
    "        output = selected.groupby(by=kwargs['group_columns']).size().reset_index().rename(columns={0: 'NUMBER'})\n",
    "    if kwargs['generate_download_link']:\n",
    "        filesize = int(sys.getsizeof(output) / 1024 ** 2)\n",
    "        if filesize > 20:\n",
    "            return window_alert('File too large to download ({} MB)'.format(filesize))\n",
    "        return create_download_link(output)\n",
    "    return output"
   ]
  },
  {
   "cell_type": "code",
   "execution_count": 28,
   "metadata": {
    "code_folding": []
   },
   "outputs": [
    {
     "data": {
      "application/vnd.jupyter.widget-view+json": {
       "model_id": "7ddd3fa08a494515a53ab933680a6adf",
       "version_major": 2,
       "version_minor": 0
      },
      "text/plain": [
       "interactive(children=(Dropdown(description='organism to be profiled', index=667, options=('Acaryochloris marin…"
      ]
     },
     "metadata": {},
     "output_type": "display_data"
    },
    {
     "data": {
      "application/vnd.jupyter.widget-view+json": {
       "model_id": "b2140a2d18964414a164e43339109f0e",
       "version_major": 2,
       "version_minor": 0
      },
      "text/plain": [
       "interactive(children=(ToggleButtons(description='network', options=('NxN', 'ExE', 'DAmP', 'ExN_NxE'), style=To…"
      ]
     },
     "metadata": {},
     "output_type": "display_data"
    },
    {
     "data": {
      "text/plain": [
       "<function __main__.draw_explore_genetic_interactions_networks(*args, **kwargs)>"
      ]
     },
     "execution_count": 28,
     "metadata": {},
     "output_type": "execute_result"
    }
   ],
   "source": [
    "# Get just the organisms names (not the strain id or similar) from prwlr.apis.organism\n",
    "organisms_df = kegg_api.organisms_ids_df['DESCRIPTION'].str.split(expand=True)[[0, 1]].drop_duplicates()\n",
    "organisms_s = organisms_df[0] + ' ' + organisms_df[1]\n",
    "organisms_s.sort_values(inplace=True)\n",
    "default_organisms = tuple(frozenset(organisms_s).intersection(bacteria + archea + eukaryots))\n",
    "wide_layout = Layout(\n",
    "    display='flex',\n",
    "#     flex_direction='column',\n",
    "    justify_content='flex-start',\n",
    "    width='100%',\n",
    "    height='400px',\n",
    ")\n",
    "wide_slim_layout = Layout(\n",
    "    width='100%',\n",
    "    height='20px;',\n",
    ")\n",
    "column_layout = Layout(\n",
    "    display='flex',\n",
    "    flex_flow='column',\n",
    "    width='100%',\n",
    "    height='350px',\n",
    ")\n",
    "complete_description_style = {'description_width': 'initial'}\n",
    "filter_name_templ = 'Filter to {} name:'\n",
    "filter_value_templ = 'Filter to {} value(s):'\n",
    "\n",
    "widgets.interact_manual(\n",
    "    draw_build_profiles,\n",
    "    organism=widgets.Dropdown(\n",
    "        options=organisms_s,\n",
    "        value='Saccharomyces cerevisiae',\n",
    "        description='organism to be profiled',\n",
    "        style=complete_description_style,\n",
    "    ),\n",
    "    organisms=widgets.SelectMultiple(\n",
    "        options=organisms_s,\n",
    "        value=default_organisms,\n",
    "        description=\"organisms to build profile\",\n",
    "        style=complete_description_style,\n",
    "        layout=column_layout,\n",
    "    ),\n",
    ")\n",
    "widgets.interact_manual(\n",
    "    draw_explore_genetic_interactions_networks,\n",
    "    network=widgets.ToggleButtons(\n",
    "        options=['NxN', 'ExE', 'DAmP', 'ExN_NxE'],\n",
    "        style=complete_description_style,\n",
    "    ),\n",
    "    action=widgets.ToggleButtons(\n",
    "        options=['display', 'group'],\n",
    "        style=complete_description_style,\n",
    "    ),\n",
    "    group_columns=widgets.SelectMultiple(\n",
    "        options=NxN.columns,\n",
    "        value=['GIS_binned', 'PROF_Q', 'PROF_A'],\n",
    "        description='Select columns with values to group and count. Click with Ctrl pressed to select multiple.',\n",
    "        layout=column_layout,\n",
    "        style=complete_description_style,\n",
    "    ),\n",
    "    ORF_Q=widgets.Text(\n",
    "        description=filter_name_templ.format(prwlr.Columns.ORF_Q),\n",
    "        style=complete_description_style,\n",
    "    ),\n",
    "    ORF_A=widgets.Text(\n",
    "        description=filter_name_templ.format(prwlr.Columns.ORF_A),\n",
    "        style=complete_description_style,\n",
    "    ),\n",
    "    GENE_Q=widgets.Text(\n",
    "        description=filter_name_templ.format(prwlr.Columns.GENE_Q),\n",
    "        style=complete_description_style,\n",
    "    ),\n",
    "    GENE_A=widgets.Text(\n",
    "        description=filter_name_templ.format(prwlr.Columns.GENE_A),\n",
    "        style=complete_description_style,\n",
    "    ),\n",
    "    p_value=widgets.FloatRangeSlider(\n",
    "        description=filter_value_templ.format('p-value'),\n",
    "        min=NxN[prwlr.Columns.GIS_P].min(),\n",
    "        max=NxN[prwlr.Columns.GIS_P].max(),\n",
    "        step=0.01,\n",
    "        value=(NxN[prwlr.Columns.GIS_P].min(), NxN[prwlr.Columns.GIS_P].max()),\n",
    "        style=complete_description_style,\n",
    "        layout=wide_slim_layout,\n",
    "    ),\n",
    "    PSS=widgets.SelectionRangeSlider(\n",
    "        description=filter_value_templ.format(prwlr.Columns.PSS),\n",
    "        options=(range(0, len(profiles.iloc[0][prwlr.Columns.PROF]) + 1)),\n",
    "        value=(0, len(profiles.iloc[0][prwlr.Columns.PROF])),\n",
    "        style=complete_description_style,\n",
    "        layout=wide_slim_layout,\n",
    "    ),\n",
    "    GIS=widgets.SelectionRangeSlider(\n",
    "        description=filter_value_templ.format('GIS_binned'),\n",
    "        options=NxN['GIS_binned'].drop_duplicates(),\n",
    "        value=(NxN['GIS_binned'].min(), NxN['GIS_binned'].max()),\n",
    "        style=complete_description_style,\n",
    "        layout=wide_slim_layout,\n",
    "    ),\n",
    "    generate_download_link=widgets.Checkbox(\n",
    "        value=False,\n",
    "        description='Generate download link',\n",
    "        disabled=False,\n",
    "        style=complete_description_style,\n",
    "    ),\n",
    ")"
   ]
  }
 ],
 "metadata": {
  "celltoolbar": "Slideshow",
  "kernelspec": {
   "display_name": "Python [conda env:prwlr]",
   "language": "python",
   "name": "conda-env-prwlr-py"
  },
  "language_info": {
   "codemirror_mode": {
    "name": "ipython",
    "version": 3
   },
   "file_extension": ".py",
   "mimetype": "text/x-python",
   "name": "python",
   "nbconvert_exporter": "python",
   "pygments_lexer": "ipython3",
   "version": "3.7.3"
  }
 },
 "nbformat": 4,
 "nbformat_minor": 2
}
